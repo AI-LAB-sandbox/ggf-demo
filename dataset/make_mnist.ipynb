{
 "cells": [
  {
   "cell_type": "code",
   "execution_count": null,
   "id": "25782b8b-d0b8-478d-846c-6973c83d801e",
   "metadata": {},
   "outputs": [],
   "source": [
    "# These codes are adapted from Sagawa and Hino's work: https://github.com/ssgw320/gdacnf"
   ]
  },
  {
   "cell_type": "code",
   "execution_count": 1,
   "id": "1da2400b-0f5f-404f-aceb-c0f6a5f9b87d",
   "metadata": {},
   "outputs": [],
   "source": [
    "import numpy as np\n",
    "import pandas as pd\n",
    "from PIL import Image\n",
    "from pathlib import Path\n",
    "from scipy import ndimage\n",
    "from torchvision.datasets import MNIST"
   ]
  },
  {
   "cell_type": "code",
   "execution_count": 2,
   "id": "36d51ef8-f641-42bc-a243-9062e823598b",
   "metadata": {},
   "outputs": [],
   "source": [
    "your_dataset_path = '../../../dataset/'\n",
    "dataset = MNIST(your_dataset_path, train=True, download=False)"
   ]
  },
  {
   "cell_type": "code",
   "execution_count": 3,
   "id": "ef74fdf8-02e5-4ee1-b9db-0a96219d9824",
   "metadata": {},
   "outputs": [],
   "source": [
    "x = np.array(dataset.data).astype(np.float32) / 255\n",
    "y = np.array(dataset.targets)"
   ]
  },
  {
   "cell_type": "code",
   "execution_count": 4,
   "id": "394cf697-ff72-4ac0-8a24-9c323a39f66f",
   "metadata": {},
   "outputs": [
    {
     "data": {
      "text/plain": [
       "(60000, 28, 28)"
      ]
     },
     "execution_count": 4,
     "metadata": {},
     "output_type": "execute_result"
    }
   ],
   "source": [
    "x.shape"
   ]
  },
  {
   "cell_type": "code",
   "execution_count": 5,
   "id": "8d696096-2651-42df-80d6-9f519e5eba95",
   "metadata": {},
   "outputs": [],
   "source": [
    "domain_num = 10"
   ]
  },
  {
   "cell_type": "code",
   "execution_count": 6,
   "id": "2957b732-1891-4819-84f7-0d59c819d854",
   "metadata": {},
   "outputs": [],
   "source": [
    "angles = np.linspace(0, 45, domain_num)"
   ]
  },
  {
   "cell_type": "code",
   "execution_count": 7,
   "id": "c819b526-9e40-420b-bee5-3a2dd4683c2b",
   "metadata": {},
   "outputs": [
    {
     "data": {
      "text/plain": [
       "array([ 0.,  5., 10., 15., 20., 25., 30., 35., 40., 45.])"
      ]
     },
     "execution_count": 7,
     "metadata": {},
     "output_type": "execute_result"
    }
   ],
   "source": [
    "angles"
   ]
  },
  {
   "cell_type": "code",
   "execution_count": 8,
   "id": "f64ae04c-8311-4f49-bddd-6b948e5e4c11",
   "metadata": {},
   "outputs": [],
   "source": [
    "index = np.arange(x.shape[0])\n",
    "np.random.seed(516)\n",
    "np.random.shuffle(index)"
   ]
  },
  {
   "cell_type": "code",
   "execution_count": 9,
   "id": "968979a9-8a11-4fb1-a22c-1d9dcfb83607",
   "metadata": {},
   "outputs": [],
   "source": [
    "each_domain_samples = np.full(shape=10, fill_value=4000)"
   ]
  },
  {
   "cell_type": "code",
   "execution_count": 10,
   "id": "72f0679e-5b27-4067-8911-eb25ad6747c3",
   "metadata": {},
   "outputs": [],
   "source": [
    "split_index = np.split(index, np.cumsum(each_domain_samples))"
   ]
  },
  {
   "cell_type": "code",
   "execution_count": 11,
   "id": "f505385f-9d65-4d3c-b54a-2f7d78d9ddaf",
   "metadata": {},
   "outputs": [
    {
     "data": {
      "text/plain": [
       "[array([38972, 44305, 16520, ..., 35665, 41294, 20358]),\n",
       " array([13491, 54710,  5359, ..., 50538, 58244, 43819]),\n",
       " array([37143, 44241, 56857, ..., 50086,  6239, 21692]),\n",
       " array([49735, 52681, 47817, ..., 44538,  7937, 43258]),\n",
       " array([13271, 16526, 57466, ..., 10584, 10332, 12208]),\n",
       " array([19937, 17041, 30413, ..., 17114, 17120, 55964]),\n",
       " array([ 4708, 57633, 23555, ..., 37473, 36202, 18364]),\n",
       " array([43671, 57248, 19413, ..., 30287, 14199, 36874]),\n",
       " array([30268,  7589,  7231, ..., 18310, 12280, 53294]),\n",
       " array([25719, 43509, 19243, ...,  7842, 36761, 19516]),\n",
       " array([43708, 18817, 11261, ..., 19405, 48205, 51967])]"
      ]
     },
     "execution_count": 11,
     "metadata": {},
     "output_type": "execute_result"
    }
   ],
   "source": [
    "split_index"
   ]
  },
  {
   "cell_type": "code",
   "execution_count": 12,
   "id": "a87316c8-210f-43c7-874c-6790cc0806f6",
   "metadata": {},
   "outputs": [],
   "source": [
    "x_all, y_all = list(), list()\n",
    "for idx, angle in zip(split_index, angles):\n",
    "    rotated_x = []\n",
    "    for i in x[idx]:\n",
    "        # temp = np.random.random()*5 + angle\n",
    "        temp = angle\n",
    "        rotated_x.append(ndimage.rotate(i, temp, reshape=False))\n",
    "    rotated_x = np.array(rotated_x)\n",
    "    # rotated_x = np.array([ndimage.rotate(i, angle, reshape=False) for i in x[idx]])\n",
    "    x_all.append(rotated_x.reshape(-1, 1, 28, 28))\n",
    "    y_all.append(y[idx])"
   ]
  },
  {
   "cell_type": "code",
   "execution_count": 13,
   "id": "5fefdec1-b4d8-45d0-9a44-1f8a647fdf89",
   "metadata": {},
   "outputs": [
    {
     "data": {
      "text/plain": [
       "((4000,), (4000, 1, 28, 28))"
      ]
     },
     "execution_count": 13,
     "metadata": {},
     "output_type": "execute_result"
    }
   ],
   "source": [
    "y_all[-1].shape, x_all[0].shape"
   ]
  },
  {
   "cell_type": "code",
   "execution_count": 14,
   "id": "d64e4a69-e88a-42a9-b1e4-cff40951ef86",
   "metadata": {},
   "outputs": [],
   "source": [
    "obj = {'data': x_all, 'label': y_all}\n",
    "pd.to_pickle(obj, f'mnist45_original.pkl')"
   ]
  },
  {
   "cell_type": "code",
   "execution_count": 15,
   "id": "9535e08b-27fb-411e-bafb-a16a23d5a5c5",
   "metadata": {},
   "outputs": [],
   "source": [
    "import umap"
   ]
  },
  {
   "cell_type": "code",
   "execution_count": 16,
   "id": "2b5bdc6e-4e46-4181-a82f-bc494528dbea",
   "metadata": {},
   "outputs": [],
   "source": [
    "def fit_umap(x_all, y_all, **umap_kwargs) -> list:\n",
    "    umap_settings = dict(n_components=2, n_neighbors=15, metric='cosine')\n",
    "    umap_settings.update(umap_kwargs)\n",
    "    X = np.vstack(x_all)\n",
    "    X = X.reshape(X.shape[0], -1)\n",
    "    # use source label as semi-superviesd UMAP\n",
    "    Y_semi_supervised = [np.full(shape=y.shape[0], fill_value=-1) for y in y_all]\n",
    "    Y_semi_supervised[0] = y_all[0].copy()\n",
    "    Y_semi_supervised = np.hstack(Y_semi_supervised)\n",
    "    # fit UMAP\n",
    "    encoder = umap.UMAP(random_state=1234, **umap_settings)\n",
    "    Z = encoder.fit_transform(X, Y_semi_supervised)\n",
    "    z_idx = np.cumsum([i.shape[0] for i in x_all])\n",
    "    z_all = np.vsplit(Z, z_idx)[:-1]\n",
    "    return z_all, encoder"
   ]
  },
  {
   "cell_type": "code",
   "execution_count": 17,
   "id": "9581c166-6e5c-45c8-90b1-cf60c124835d",
   "metadata": {},
   "outputs": [],
   "source": [
    "z_all, encoder = fit_umap(np.array(x_all)[[0, domain_num-1]], np.array(y_all)[[0, domain_num-1]], n_components=8)"
   ]
  },
  {
   "cell_type": "code",
   "execution_count": 18,
   "id": "541d73ac-b699-4c16-8901-1b26f0fb192a",
   "metadata": {},
   "outputs": [],
   "source": [
    "obj = {'data': z_all, 'label': np.array(y_all)[[0, domain_num-1]]}\n",
    "pd.to_pickle(obj, f'mnist45.pkl')"
   ]
  }
 ],
 "metadata": {
  "kernelspec": {
   "display_name": "Python 3 (ipykernel)",
   "language": "python",
   "name": "python3"
  },
  "language_info": {
   "codemirror_mode": {
    "name": "ipython",
    "version": 3
   },
   "file_extension": ".py",
   "mimetype": "text/x-python",
   "name": "python",
   "nbconvert_exporter": "python",
   "pygments_lexer": "ipython3",
   "version": "3.9.13"
  }
 },
 "nbformat": 4,
 "nbformat_minor": 5
}
