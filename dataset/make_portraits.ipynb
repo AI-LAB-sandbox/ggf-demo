{
 "cells": [
  {
   "cell_type": "code",
   "execution_count": 1,
   "id": "e1056cfe-541c-4b4b-aa59-305227db53e0",
   "metadata": {},
   "outputs": [],
   "source": [
    "# These codes are adapted from Sagawa and Hino's work: https://github.com/ssgw320/gdacnf"
   ]
  },
  {
   "cell_type": "code",
   "execution_count": 2,
   "id": "3433d802-6f3d-41ac-97a8-3eb1e90ba925",
   "metadata": {},
   "outputs": [],
   "source": [
    "import numpy as np\n",
    "import pandas as pd\n",
    "from PIL import Image\n",
    "from pathlib import Path"
   ]
  },
  {
   "cell_type": "code",
   "execution_count": 3,
   "id": "cfedf0b5-cc24-4ba3-9c6d-4e9689be2b02",
   "metadata": {},
   "outputs": [],
   "source": [
    "data_dir = \"../../../../workspace/dataset/\" # your datast path"
   ]
  },
  {
   "cell_type": "code",
   "execution_count": 4,
   "id": "78d6af64-04b7-421a-95c9-46175a518092",
   "metadata": {},
   "outputs": [],
   "source": [
    "male_path = Path(data_dir + 'portraits/M')\n",
    "female_path = Path(data_dir + 'portraits/F')\n",
    "male_list = list(male_path.glob(\"*.png\"))\n",
    "female_list = list(female_path.glob(\"*.png\"))\n",
    "\n",
    "df = pd.concat([pd.DataFrame({'img_path': male_list}), pd.DataFrame({'img_path': female_list})]).reset_index(drop=True)\n",
    "df['year'] = df['img_path'].apply(lambda p: p.stem.split('_')[0]).astype(int)\n",
    "# df['name'] = df['img_path'].apply(lambda p: p.stem.split('\\\\')[-1])\n",
    "df['sex'] = df['img_path'].apply(lambda p: p.parent.stem.split('\\\\')[-1])\n",
    "df['sex'] = df['sex'].apply(lambda p: 0 if p=='M' else 1)\n",
    "df = df.sort_values(by='year').reset_index(drop=True).drop('year', axis=1)"
   ]
  },
  {
   "cell_type": "code",
   "execution_count": 5,
   "id": "e6b16ad5-dc09-4a98-bb43-1e64c0d552e8",
   "metadata": {},
   "outputs": [
    {
     "data": {
      "text/html": [
       "<div>\n",
       "<style scoped>\n",
       "    .dataframe tbody tr th:only-of-type {\n",
       "        vertical-align: middle;\n",
       "    }\n",
       "\n",
       "    .dataframe tbody tr th {\n",
       "        vertical-align: top;\n",
       "    }\n",
       "\n",
       "    .dataframe thead th {\n",
       "        text-align: right;\n",
       "    }\n",
       "</style>\n",
       "<table border=\"1\" class=\"dataframe\">\n",
       "  <thead>\n",
       "    <tr style=\"text-align: right;\">\n",
       "      <th></th>\n",
       "      <th>img_path</th>\n",
       "      <th>sex</th>\n",
       "    </tr>\n",
       "  </thead>\n",
       "  <tbody>\n",
       "    <tr>\n",
       "      <th>0</th>\n",
       "      <td>..\\..\\..\\..\\workspace\\dataset\\portraits\\M\\1905...</td>\n",
       "      <td>0</td>\n",
       "    </tr>\n",
       "    <tr>\n",
       "      <th>1</th>\n",
       "      <td>..\\..\\..\\..\\workspace\\dataset\\portraits\\F\\1905...</td>\n",
       "      <td>1</td>\n",
       "    </tr>\n",
       "    <tr>\n",
       "      <th>2</th>\n",
       "      <td>..\\..\\..\\..\\workspace\\dataset\\portraits\\F\\1905...</td>\n",
       "      <td>1</td>\n",
       "    </tr>\n",
       "    <tr>\n",
       "      <th>3</th>\n",
       "      <td>..\\..\\..\\..\\workspace\\dataset\\portraits\\M\\1905...</td>\n",
       "      <td>0</td>\n",
       "    </tr>\n",
       "    <tr>\n",
       "      <th>4</th>\n",
       "      <td>..\\..\\..\\..\\workspace\\dataset\\portraits\\M\\1905...</td>\n",
       "      <td>0</td>\n",
       "    </tr>\n",
       "  </tbody>\n",
       "</table>\n",
       "</div>"
      ],
      "text/plain": [
       "                                            img_path  sex\n",
       "0  ..\\..\\..\\..\\workspace\\dataset\\portraits\\M\\1905...    0\n",
       "1  ..\\..\\..\\..\\workspace\\dataset\\portraits\\F\\1905...    1\n",
       "2  ..\\..\\..\\..\\workspace\\dataset\\portraits\\F\\1905...    1\n",
       "3  ..\\..\\..\\..\\workspace\\dataset\\portraits\\M\\1905...    0\n",
       "4  ..\\..\\..\\..\\workspace\\dataset\\portraits\\M\\1905...    0"
      ]
     },
     "execution_count": 5,
     "metadata": {},
     "output_type": "execute_result"
    }
   ],
   "source": [
    "df.head()"
   ]
  },
  {
   "cell_type": "code",
   "execution_count": 6,
   "id": "da806818-d108-4fa9-ab10-5b52a0358f2b",
   "metadata": {},
   "outputs": [],
   "source": [
    "paths = []\n",
    "for i in df[:18000]['img_path']:\n",
    "    paths.append(\"portraits/%s/%s\" % (i.parent.stem.split('portraits\\\\')[-1] , i.stem))"
   ]
  },
  {
   "cell_type": "code",
   "execution_count": 7,
   "id": "41343d8d-955c-4f56-923d-b752e90656ea",
   "metadata": {},
   "outputs": [],
   "source": [
    "def make_split_data(df: pd.DataFrame, target: str, num_inter_domain: int, num_domain_samples: dict):\n",
    "    \"\"\" use for Portraits, Gas Sensor, Cover Type \"\"\"\n",
    "    split_index = np.split(np.arange(df.shape[0]), np.cumsum(list(num_domain_samples.values())))\n",
    "    x_all, y_all = list(), list()\n",
    "    for idx, key in zip(split_index, num_domain_samples.keys()):\n",
    "        x = df.drop(target, axis=1).loc[idx].values\n",
    "        y = df.loc[idx, target].values\n",
    "        if key == 'inter':\n",
    "            x_all += np.vsplit(x, num_inter_domain)\n",
    "            y_all += np.hsplit(y, num_inter_domain)\n",
    "        else:\n",
    "            x_all.append(x)\n",
    "            y_all.append(y)\n",
    "    return x_all, y_all"
   ]
  },
  {
   "cell_type": "code",
   "execution_count": 8,
   "id": "57e27f48-4a7c-46eb-bd98-931208893a85",
   "metadata": {},
   "outputs": [],
   "source": [
    "def convert_portraits(p: Path):\n",
    "    # read, gray scale, resize\n",
    "    img = Image.open(p).convert('L').resize((32,32))\n",
    "    img = np.array(img, dtype=np.float32) / 255\n",
    "    return img"
   ]
  },
  {
   "cell_type": "code",
   "execution_count": 9,
   "id": "74d2036b-9b20-42c1-a781-b50feb8a10bc",
   "metadata": {},
   "outputs": [],
   "source": [
    "num_domain_samples = {'source': 2000, 'inter': 14000, 'target': 2000}\n",
    "# split to each domain\n",
    "x_all, y_all = make_split_data(df, 'sex', 7, num_domain_samples)\n",
    "\n",
    "for i, domain in enumerate(x_all):\n",
    "    domain = np.array([convert_portraits(x) for x in domain.flatten()])\n",
    "    x_all[i] = domain.reshape(-1, 1, 32, 32)"
   ]
  },
  {
   "cell_type": "code",
   "execution_count": 10,
   "id": "0981a2b6-081c-4dbe-9ecc-9682970dcfa7",
   "metadata": {},
   "outputs": [],
   "source": [
    "obj = {'data': x_all, 'label': y_all}\n",
    "pd.to_pickle(obj, f'portraits_original.pkl')"
   ]
  },
  {
   "cell_type": "code",
   "execution_count": 11,
   "id": "f15dfcab-9e65-41dc-b33a-d63cd0f1e1e9",
   "metadata": {},
   "outputs": [],
   "source": [
    "pd.to_pickle(paths, f'portraits_path.pkl')"
   ]
  },
  {
   "cell_type": "code",
   "execution_count": 12,
   "id": "74a11ffa-6a57-45f5-8232-e29f90637438",
   "metadata": {},
   "outputs": [],
   "source": [
    "import umap"
   ]
  },
  {
   "cell_type": "code",
   "execution_count": 13,
   "id": "2e09568f-b1dc-4871-81b8-d613ee10a094",
   "metadata": {},
   "outputs": [],
   "source": [
    "def fit_umap(x_all, y_all, **umap_kwargs) -> list:\n",
    "    umap_settings = dict(n_components=2, n_neighbors=15, metric='cosine')\n",
    "    umap_settings.update(umap_kwargs)\n",
    "    X = np.vstack(x_all)\n",
    "    X = X.reshape(X.shape[0], -1)\n",
    "    # use source label as semi-superviesd UMAP\n",
    "    Y_semi_supervised = [np.full(shape=y.shape[0], fill_value=-1) for y in y_all]\n",
    "    Y_semi_supervised[0] = y_all[0].copy()\n",
    "    Y_semi_supervised = np.hstack(Y_semi_supervised)\n",
    "    # fit UMAP\n",
    "    encoder = umap.UMAP(random_state=1234, **umap_settings)\n",
    "    Z = encoder.fit_transform(X, Y_semi_supervised)\n",
    "    z_idx = np.cumsum([i.shape[0] for i in x_all])\n",
    "    z_all = np.vsplit(Z, z_idx)[:-1]\n",
    "    return z_all, encoder"
   ]
  },
  {
   "cell_type": "code",
   "execution_count": 14,
   "id": "5eb10ac8-d68a-4d96-8f46-d6bd9c50ed79",
   "metadata": {},
   "outputs": [],
   "source": [
    "z_all, encoder = fit_umap(np.array(x_all)[[0, len(x_all)-1]], np.array(y_all)[[0, len(y_all)-1]], n_components=8)"
   ]
  },
  {
   "cell_type": "code",
   "execution_count": 16,
   "id": "c370e4fa-0c22-47a7-900b-3cf89d1cca01",
   "metadata": {},
   "outputs": [],
   "source": [
    "obj = {'data': z_all, 'label': np.array(y_all)[[0, len(y_all)-1]]}\n",
    "pd.to_pickle(obj, f'portraits.pkl')"
   ]
  }
 ],
 "metadata": {
  "kernelspec": {
   "display_name": "Python 3 (ipykernel)",
   "language": "python",
   "name": "python3"
  },
  "language_info": {
   "codemirror_mode": {
    "name": "ipython",
    "version": 3
   },
   "file_extension": ".py",
   "mimetype": "text/x-python",
   "name": "python",
   "nbconvert_exporter": "python",
   "pygments_lexer": "ipython3",
   "version": "3.9.13"
  }
 },
 "nbformat": 4,
 "nbformat_minor": 5
}
